{
 "cells": [
  {
   "cell_type": "code",
   "execution_count": 1,
   "metadata": {},
   "outputs": [],
   "source": [
    "# Import data and packages\n",
    "import pandas as pd, numpy as np\n",
    "\n",
    "import scispacy, spacy\n",
    "nlp = spacy.load('en_core_sci_md')"
   ]
  },
  {
   "cell_type": "code",
   "execution_count": 12,
   "metadata": {},
   "outputs": [],
   "source": [
    "df2 = pd.read_pickle(\"AllPapersCleaned_df.pkl\")\n",
    "start = 30\n",
    "\n",
    "begin = (start-1)*1000\n",
    "fin = min(start*1000,len(df2))\n",
    "df2 = df2[begin:fin]"
   ]
  },
  {
   "cell_type": "code",
   "execution_count": 13,
   "metadata": {},
   "outputs": [
    {
     "data": {
      "application/vnd.jupyter.widget-view+json": {
       "model_id": "a218b3d8f7a94971912c124e68019514",
       "version_major": 2,
       "version_minor": 0
      },
      "text/plain": [
       "HBox(children=(FloatProgress(value=0.0, max=315.0), HTML(value='')))"
      ]
     },
     "metadata": {},
     "output_type": "display_data"
    },
    {
     "name": "stdout",
     "output_type": "stream",
     "text": [
      "\n"
     ]
    }
   ],
   "source": [
    "# Create a lemma column where all words are lemmatised\n",
    "from tqdm.notebook import tqdm\n",
    "\n",
    "# Increase max length of document NLP will look at\n",
    "nlp.max_length = 1e7\n",
    "unique_lemmas = []\n",
    "lemmas = []\n",
    "for i in tqdm(range(begin,fin)):\n",
    "    doc = nlp(df2.txt[i])\n",
    "    if(len(doc)>nlp.max_length): # Clip documents to max length\n",
    "        doc = doc[0:nlp.max_length]\n",
    "    doclemma = []\n",
    "#    uniquedoclemma = []\n",
    "    for token in doc:\n",
    "        doclemma.append(token.lemma_)\n",
    "#        if(token.lemma_ not in uniquedoclemma):\n",
    "#            uniquedoclemma.append(token.lemma_)\n",
    "    lemmas.append(doclemma)\n",
    "#    unique_lemmas.append(uniquedoclemma)\n",
    "df2['lemmas'] = lemmas\n",
    "#df3['unique_lemmas'] = unique_lemmas\n",
    "df2.to_pickle(f\"DFWithLemmas_part{start}.pkl\")"
   ]
  },
  {
   "cell_type": "code",
   "execution_count": 9,
   "metadata": {},
   "outputs": [
    {
     "data": {
      "text/html": [
       "<div>\n",
       "<style scoped>\n",
       "    .dataframe tbody tr th:only-of-type {\n",
       "        vertical-align: middle;\n",
       "    }\n",
       "\n",
       "    .dataframe tbody tr th {\n",
       "        vertical-align: top;\n",
       "    }\n",
       "\n",
       "    .dataframe thead th {\n",
       "        text-align: right;\n",
       "    }\n",
       "</style>\n",
       "<table border=\"1\" class=\"dataframe\">\n",
       "  <thead>\n",
       "    <tr style=\"text-align: right;\">\n",
       "      <th></th>\n",
       "      <th>doc_id</th>\n",
       "      <th>title</th>\n",
       "      <th>txt</th>\n",
       "      <th>author</th>\n",
       "      <th>lemmas</th>\n",
       "    </tr>\n",
       "  </thead>\n",
       "  <tbody>\n",
       "    <tr>\n",
       "      <th>2000</th>\n",
       "      <td>a26ffcce0878ea2ebab2a7ed46a9761244fda936</td>\n",
       "      <td>A matched case-control study</td>\n",
       "      <td>influenza is an acute respiratory illness that...</td>\n",
       "      <td>Gasparini, Amicizia, Lai, Rossi, Panatto</td>\n",
       "      <td>[influenza, be, an, acute, respiratory, illnes...</td>\n",
       "    </tr>\n",
       "    <tr>\n",
       "      <th>2001</th>\n",
       "      <td>1780b05d86758cff5cd62198323366bee36f59e5</td>\n",
       "      <td>Toward Personalized Gene Therapy: Characterizi...</td>\n",
       "      <td>similar to other viral vectors lentiviral vect...</td>\n",
       "      <td>Suwanmanee, Ferris, Hu, Gui, Montgomery, Pardo...</td>\n",
       "      <td>[similar, to, other, viral, vector, lentiviral...</td>\n",
       "    </tr>\n",
       "    <tr>\n",
       "      <th>2002</th>\n",
       "      <td>572d73abf2ddec90f9a3d8888fbdc3671aea242b</td>\n",
       "      <td>How to Manage a Public Health Crisis and Biote...</td>\n",
       "      <td>the recent increase in international trade and...</td>\n",
       "      <td>Chu</td>\n",
       "      <td>[the, recent, increase, in, international, tra...</td>\n",
       "    </tr>\n",
       "    <tr>\n",
       "      <th>2003</th>\n",
       "      <td>550738a7abf0b8378627958a3a5c429f36586d69</td>\n",
       "      <td>Optimization of human, animal, and environment...</td>\n",
       "      <td>emerging infectious diseases defined as novel ...</td>\n",
       "      <td>Sleeman, Deliberto, Nguyen</td>\n",
       "      <td>[emerge, infectious, disease, define, as, nove...</td>\n",
       "    </tr>\n",
       "    <tr>\n",
       "      <th>2004</th>\n",
       "      <td>23fcb75440f439f30f656e0c6b47c6f565f32ef2</td>\n",
       "      <td>Role of viral and bacterial pathogens in causi...</td>\n",
       "      <td>pneumonia is the leading cause of childhood mo...</td>\n",
       "      <td>Bhuiyan, Snelling, West, Lang, Rahman, Borland...</td>\n",
       "      <td>[pneumonia, be, the, lead, cause, of, childhoo...</td>\n",
       "    </tr>\n",
       "  </tbody>\n",
       "</table>\n",
       "</div>"
      ],
      "text/plain": [
       "                                        doc_id  \\\n",
       "2000  a26ffcce0878ea2ebab2a7ed46a9761244fda936   \n",
       "2001  1780b05d86758cff5cd62198323366bee36f59e5   \n",
       "2002  572d73abf2ddec90f9a3d8888fbdc3671aea242b   \n",
       "2003  550738a7abf0b8378627958a3a5c429f36586d69   \n",
       "2004  23fcb75440f439f30f656e0c6b47c6f565f32ef2   \n",
       "\n",
       "                                                  title  \\\n",
       "2000                       A matched case-control study   \n",
       "2001  Toward Personalized Gene Therapy: Characterizi...   \n",
       "2002  How to Manage a Public Health Crisis and Biote...   \n",
       "2003  Optimization of human, animal, and environment...   \n",
       "2004  Role of viral and bacterial pathogens in causi...   \n",
       "\n",
       "                                                    txt  \\\n",
       "2000  influenza is an acute respiratory illness that...   \n",
       "2001  similar to other viral vectors lentiviral vect...   \n",
       "2002  the recent increase in international trade and...   \n",
       "2003  emerging infectious diseases defined as novel ...   \n",
       "2004  pneumonia is the leading cause of childhood mo...   \n",
       "\n",
       "                                                 author  \\\n",
       "2000           Gasparini, Amicizia, Lai, Rossi, Panatto   \n",
       "2001  Suwanmanee, Ferris, Hu, Gui, Montgomery, Pardo...   \n",
       "2002                                                Chu   \n",
       "2003                         Sleeman, Deliberto, Nguyen   \n",
       "2004  Bhuiyan, Snelling, West, Lang, Rahman, Borland...   \n",
       "\n",
       "                                                 lemmas  \n",
       "2000  [influenza, be, an, acute, respiratory, illnes...  \n",
       "2001  [similar, to, other, viral, vector, lentiviral...  \n",
       "2002  [the, recent, increase, in, international, tra...  \n",
       "2003  [emerge, infectious, disease, define, as, nove...  \n",
       "2004  [pneumonia, be, the, lead, cause, of, childhoo...  "
      ]
     },
     "execution_count": 9,
     "metadata": {},
     "output_type": "execute_result"
    }
   ],
   "source": [
    "df2.head()"
   ]
  },
  {
   "cell_type": "code",
   "execution_count": null,
   "metadata": {},
   "outputs": [],
   "source": []
  }
 ],
 "metadata": {
  "kernelspec": {
   "display_name": "Python 3",
   "language": "python",
   "name": "python3"
  },
  "language_info": {
   "codemirror_mode": {
    "name": "ipython",
    "version": 3
   },
   "file_extension": ".py",
   "mimetype": "text/x-python",
   "name": "python",
   "nbconvert_exporter": "python",
   "pygments_lexer": "ipython3",
   "version": "3.7.4"
  }
 },
 "nbformat": 4,
 "nbformat_minor": 2
}
